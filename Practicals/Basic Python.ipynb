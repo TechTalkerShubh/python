{
 "cells": [
  {
   "cell_type": "markdown",
   "id": "hundred-compression",
   "metadata": {},
   "source": [
    "## Name: Nagpurkar Manthan Tulsiram\n",
    "## Enrollment No: 190130107071\n",
    "## Subject: PDS(3150713)\n",
    "## Sem: 5\n",
    "## Class: CE-A"
   ]
  },
  {
   "cell_type": "markdown",
   "id": "outdoor-psychology",
   "metadata": {},
   "source": [
    "## Practical-1"
   ]
  },
  {
   "cell_type": "code",
   "execution_count": 1,
   "id": "defined-retention",
   "metadata": {},
   "outputs": [
    {
     "data": {
      "text/plain": [
       "[0, 1, 2, 3, 4, 5, 6, 7, 8, 9, 10, 11, 12, 13, 14, 15, 16, 17, 18, 19]"
      ]
     },
     "execution_count": 1,
     "metadata": {},
     "output_type": "execute_result"
    }
   ],
   "source": [
    "ar = []\n",
    "for i in range(0, 20):\n",
    "    ar.append(i)\n",
    "ar"
   ]
  },
  {
   "cell_type": "code",
   "execution_count": 4,
   "id": "alike-valentine",
   "metadata": {},
   "outputs": [
    {
     "name": "stdout",
     "output_type": "stream",
     "text": [
      "Odd numbers = [1, 3, 5, 7, 9, 11, 13, 15, 17, 19]\n",
      "Even numbers = [0, 2, 4, 6, 8, 10, 12, 14, 16, 18]\n"
     ]
    }
   ],
   "source": [
    "odd = []\n",
    "even = []\n",
    "for i in range(0,20):\n",
    "    if i%2!=0:\n",
    "        odd.append(i)\n",
    "    else:\n",
    "        even.append(i)\n",
    "print(f'Odd numbers = {odd}')\n",
    "print(f'Even numbers = {even}')"
   ]
  },
  {
   "cell_type": "code",
   "execution_count": 7,
   "id": "short-protest",
   "metadata": {},
   "outputs": [
    {
     "data": {
      "text/plain": [
       "[1, 3, 5, 7, 9]"
      ]
     },
     "execution_count": 7,
     "metadata": {},
     "output_type": "execute_result"
    }
   ],
   "source": [
    "less_than_ten = []\n",
    "for i in range(len(odd)):\n",
    "    if odd[i]>10:\n",
    "        break\n",
    "    else:\n",
    "        less_than_ten.append(odd[i])\n",
    "less_than_ten"
   ]
  },
  {
   "cell_type": "code",
   "execution_count": 8,
   "id": "excited-helicopter",
   "metadata": {},
   "outputs": [
    {
     "name": "stdout",
     "output_type": "stream",
     "text": [
      "a is equal to 2\n"
     ]
    }
   ],
   "source": [
    "a = 2\n",
    "if a>2:\n",
    "    print('a is greater than 2')\n",
    "elif a<2:\n",
    "    print('a is less than 2')\n",
    "else:\n",
    "    print('a is equal to 2')\n"
   ]
  },
  {
   "cell_type": "code",
   "execution_count": 18,
   "id": "handy-poison",
   "metadata": {},
   "outputs": [
    {
     "name": "stdout",
     "output_type": "stream",
     "text": [
      "Greater than 5 and odd values:\n",
      "9 11 13 15 17 19 "
     ]
    }
   ],
   "source": [
    "print(\"Greater than 5 and odd values:\")\n",
    "for index, val in enumerate(odd,1):\n",
    "    if index<5:\n",
    "        continue\n",
    "    else:\n",
    "        print(val,end=' ')"
   ]
  },
  {
   "cell_type": "markdown",
   "id": "sticky-administration",
   "metadata": {},
   "source": [
    "## Practical-2"
   ]
  },
  {
   "cell_type": "code",
   "execution_count": 21,
   "id": "sharing-burlington",
   "metadata": {},
   "outputs": [
    {
     "data": {
      "text/plain": [
       "[21,\n",
       " 31,\n",
       " 312,\n",
       " 424,\n",
       " 5345,\n",
       " 65,\n",
       " 62,\n",
       " 19,\n",
       " 64,\n",
       " 23,\n",
       " 'Manthan',\n",
       " 'Nagpurkar',\n",
       " 2888,\n",
       " 4010041]"
      ]
     },
     "execution_count": 21,
     "metadata": {},
     "output_type": "execute_result"
    }
   ],
   "source": [
    "## List\n",
    "mylist = [21, 31, 312, 424, 5345, 65, 62, 19, 64 ,23]\n",
    "mylist.append(\"Manthan\")\n",
    "mylist.append(\"Nagpurkar\")\n",
    "mylist.append(2888)\n",
    "mylist.append(4010041)\n",
    "mylist"
   ]
  },
  {
   "cell_type": "code",
   "execution_count": 22,
   "id": "oriented-overhead",
   "metadata": {},
   "outputs": [
    {
     "data": {
      "text/plain": [
       "[21,\n",
       " 31,\n",
       " 'Maninagar',\n",
       " 312,\n",
       " 'Ahmedabad',\n",
       " 424,\n",
       " 5345,\n",
       " 65,\n",
       " 62,\n",
       " 19,\n",
       " 64,\n",
       " 23,\n",
       " 'Manthan',\n",
       " 'Nagpurkar',\n",
       " 2888,\n",
       " 4010041]"
      ]
     },
     "execution_count": 22,
     "metadata": {},
     "output_type": "execute_result"
    }
   ],
   "source": [
    "mylist.insert(3,'Ahmedabad')\n",
    "mylist.insert(2,'Maninagar')\n",
    "mylist"
   ]
  },
  {
   "cell_type": "code",
   "execution_count": 23,
   "id": "promising-benchmark",
   "metadata": {},
   "outputs": [],
   "source": [
    "mylist.remove(5345)"
   ]
  },
  {
   "cell_type": "code",
   "execution_count": 24,
   "id": "still-michigan",
   "metadata": {},
   "outputs": [
    {
     "data": {
      "text/plain": [
       "[21,\n",
       " 31,\n",
       " 'Maninagar',\n",
       " 312,\n",
       " 'Ahmedabad',\n",
       " 424,\n",
       " 65,\n",
       " 62,\n",
       " 19,\n",
       " 64,\n",
       " 23,\n",
       " 'Manthan',\n",
       " 'Nagpurkar',\n",
       " 2888,\n",
       " 4010041]"
      ]
     },
     "execution_count": 24,
     "metadata": {},
     "output_type": "execute_result"
    }
   ],
   "source": [
    "mylist"
   ]
  },
  {
   "cell_type": "code",
   "execution_count": 25,
   "id": "liberal-arabic",
   "metadata": {},
   "outputs": [
    {
     "data": {
      "text/plain": [
       "312"
      ]
     },
     "execution_count": 25,
     "metadata": {},
     "output_type": "execute_result"
    }
   ],
   "source": [
    "mylist.pop(3)"
   ]
  },
  {
   "cell_type": "code",
   "execution_count": 29,
   "id": "traditional-location",
   "metadata": {},
   "outputs": [
    {
     "name": "stdout",
     "output_type": "stream",
     "text": [
      "['Maninagar', 'Ahmedabad', 424, 65, 62, 19, 64, 23, 'Manthan', 'Nagpurkar', 2888, 4010041]\n",
      "[21, 31, 'Maninagar', 'Ahmedabad', 424, 65, 62, 19, 64, 23, 'Manthan', 'Nagpurkar', 2888, 4010041]\n",
      "['Maninagar', 'Ahmedabad', 424]\n",
      "[21, 31, 'Maninagar', 'Ahmedabad', 424, 65, 62, 19, 64, 23, 'Manthan', 'Nagpurkar', 2888]\n"
     ]
    }
   ],
   "source": [
    "print(mylist[2:])\n",
    "print(mylist[:])\n",
    "print(mylist[2:5])\n",
    "print(mylist[:-1])"
   ]
  },
  {
   "cell_type": "code",
   "execution_count": 30,
   "id": "intense-occurrence",
   "metadata": {},
   "outputs": [
    {
     "name": "stdout",
     "output_type": "stream",
     "text": [
      "[21, 'Maninagar', 424, 62, 64, 'Manthan', 2888]\n"
     ]
    }
   ],
   "source": [
    "print(mylist[::2])"
   ]
  },
  {
   "cell_type": "code",
   "execution_count": 31,
   "id": "painful-portfolio",
   "metadata": {},
   "outputs": [
    {
     "name": "stdout",
     "output_type": "stream",
     "text": [
      "[21, 65, 'Manthan']\n"
     ]
    }
   ],
   "source": [
    "print(mylist[::5])"
   ]
  },
  {
   "cell_type": "code",
   "execution_count": 32,
   "id": "incredible-ivory",
   "metadata": {},
   "outputs": [
    {
     "name": "stdout",
     "output_type": "stream",
     "text": [
      "14\n"
     ]
    }
   ],
   "source": [
    "print(len(mylist))"
   ]
  },
  {
   "cell_type": "code",
   "execution_count": 35,
   "id": "short-northeast",
   "metadata": {},
   "outputs": [
    {
     "name": "stdout",
     "output_type": "stream",
     "text": [
      "min value of the ml list: 23\n",
      "max value of the ml list: 4234265\n"
     ]
    }
   ],
   "source": [
    "ml = [23,1312,31432,5452,6346,63565,765,34524,62,7457,252,6342,4234265,656577,43,523,66,474]\n",
    "print(f'min value of the ml list: {min(ml)}')\n",
    "print(f'max value of the ml list: {max(ml)}')"
   ]
  },
  {
   "cell_type": "code",
   "execution_count": 36,
   "id": "armed-prison",
   "metadata": {},
   "outputs": [
    {
     "name": "stdout",
     "output_type": "stream",
     "text": [
      "multipy with 2: [23, 1312, 31432, 5452, 6346, 63565, 765, 34524, 62, 7457, 252, 6342, 4234265, 656577, 43, 523, 66, 474, 23, 1312, 31432, 5452, 6346, 63565, 765, 34524, 62, 7457, 252, 6342, 4234265, 656577, 43, 523, 66, 474]\n"
     ]
    }
   ],
   "source": [
    "print(f'multipy with 2: {ml*2}')"
   ]
  },
  {
   "cell_type": "code",
   "execution_count": 38,
   "id": "dying-shoot",
   "metadata": {},
   "outputs": [
    {
     "data": {
      "text/plain": [
       "3"
      ]
     },
     "execution_count": 38,
     "metadata": {},
     "output_type": "execute_result"
    }
   ],
   "source": [
    "mylist.index('Ahmedabad')"
   ]
  },
  {
   "cell_type": "code",
   "execution_count": 40,
   "id": "informal-example",
   "metadata": {},
   "outputs": [
    {
     "data": {
      "text/plain": [
       "[23,\n",
       " 43,\n",
       " 62,\n",
       " 66,\n",
       " 252,\n",
       " 474,\n",
       " 523,\n",
       " 765,\n",
       " 1312,\n",
       " 5452,\n",
       " 6342,\n",
       " 6346,\n",
       " 7457,\n",
       " 31432,\n",
       " 34524,\n",
       " 63565,\n",
       " 656577,\n",
       " 4234265]"
      ]
     },
     "execution_count": 40,
     "metadata": {},
     "output_type": "execute_result"
    }
   ],
   "source": [
    "ml.sort()\n",
    "ml"
   ]
  },
  {
   "cell_type": "code",
   "execution_count": 42,
   "id": "framed-occurrence",
   "metadata": {},
   "outputs": [
    {
     "data": {
      "text/plain": [
       "{'e': 2.718, 'g': 9.8, 'pie': '3.14'}"
      ]
     },
     "execution_count": 42,
     "metadata": {},
     "output_type": "execute_result"
    }
   ],
   "source": [
    "## dictionary\n",
    "mydict = {'e': 2.718, 'g':9.8, 'pie':'3.14'}\n",
    "mydict"
   ]
  },
  {
   "cell_type": "code",
   "execution_count": 43,
   "id": "freelance-roads",
   "metadata": {},
   "outputs": [
    {
     "data": {
      "text/plain": [
       "9.8"
      ]
     },
     "execution_count": 43,
     "metadata": {},
     "output_type": "execute_result"
    }
   ],
   "source": [
    "mydict['g']"
   ]
  },
  {
   "cell_type": "code",
   "execution_count": 44,
   "id": "threaded-fourth",
   "metadata": {},
   "outputs": [
    {
     "data": {
      "text/plain": [
       "dict_keys(['e', 'g', 'pie'])"
      ]
     },
     "execution_count": 44,
     "metadata": {},
     "output_type": "execute_result"
    }
   ],
   "source": [
    "mydict.keys()"
   ]
  },
  {
   "cell_type": "code",
   "execution_count": 45,
   "id": "dimensional-traffic",
   "metadata": {},
   "outputs": [
    {
     "data": {
      "text/plain": [
       "dict_values([2.718, 9.8, '3.14'])"
      ]
     },
     "execution_count": 45,
     "metadata": {},
     "output_type": "execute_result"
    }
   ],
   "source": [
    "mydict.values()"
   ]
  },
  {
   "cell_type": "code",
   "execution_count": 46,
   "id": "finite-extraction",
   "metadata": {},
   "outputs": [
    {
     "data": {
      "text/plain": [
       "{'e': 2.718, 'g': 9.8, 'pie': '3.14', 'c': 300000000}"
      ]
     },
     "execution_count": 46,
     "metadata": {},
     "output_type": "execute_result"
    }
   ],
   "source": [
    "mydict['c'] = 300000000\n",
    "mydict"
   ]
  },
  {
   "cell_type": "code",
   "execution_count": 47,
   "id": "brilliant-yesterday",
   "metadata": {},
   "outputs": [
    {
     "data": {
      "text/plain": [
       "{'e': 2.718, 'g': 9.8, 'pie': '3.14', 'c': 300000000}"
      ]
     },
     "execution_count": 47,
     "metadata": {},
     "output_type": "execute_result"
    }
   ],
   "source": [
    "s_dict = mydict.copy()\n",
    "s_dict"
   ]
  },
  {
   "cell_type": "code",
   "execution_count": 48,
   "id": "portuguese-portuguese",
   "metadata": {},
   "outputs": [],
   "source": [
    "mydict.clear()"
   ]
  },
  {
   "cell_type": "code",
   "execution_count": 49,
   "id": "agreed-edgar",
   "metadata": {},
   "outputs": [
    {
     "data": {
      "text/plain": [
       "{}"
      ]
     },
     "execution_count": 49,
     "metadata": {},
     "output_type": "execute_result"
    }
   ],
   "source": [
    "mydict"
   ]
  },
  {
   "cell_type": "code",
   "execution_count": 51,
   "id": "operational-briefs",
   "metadata": {},
   "outputs": [
    {
     "name": "stdout",
     "output_type": "stream",
     "text": [
      "0\n",
      "4\n"
     ]
    }
   ],
   "source": [
    "z = len(mydict)\n",
    "print(z)\n",
    "z = len(s_dict)\n",
    "print(z)"
   ]
  },
  {
   "cell_type": "code",
   "execution_count": 53,
   "id": "forty-macro",
   "metadata": {},
   "outputs": [
    {
     "name": "stdout",
     "output_type": "stream",
     "text": [
      "e\n",
      "g\n",
      "pie\n",
      "c\n"
     ]
    }
   ],
   "source": [
    "for item in s_dict.keys():\n",
    "    print(item)"
   ]
  },
  {
   "cell_type": "code",
   "execution_count": 54,
   "id": "armed-packet",
   "metadata": {},
   "outputs": [
    {
     "name": "stdout",
     "output_type": "stream",
     "text": [
      "2.718\n",
      "9.8\n",
      "3.14\n",
      "300000000\n"
     ]
    }
   ],
   "source": [
    "for item in s_dict.values():\n",
    "    print(item)"
   ]
  },
  {
   "cell_type": "code",
   "execution_count": 55,
   "id": "moderate-footage",
   "metadata": {},
   "outputs": [
    {
     "name": "stdout",
     "output_type": "stream",
     "text": [
      "300000000\n",
      "9.8\n"
     ]
    }
   ],
   "source": [
    "if 'c' in s_dict:\n",
    "    print(s_dict['c'])\n",
    "if 'g' in s_dict:\n",
    "    print(s_dict['g'])"
   ]
  },
  {
   "cell_type": "code",
   "execution_count": 56,
   "id": "violent-tablet",
   "metadata": {},
   "outputs": [
    {
     "name": "stdout",
     "output_type": "stream",
     "text": [
      "()\n",
      "(12, 312, 314, 4124, 142, 41, 5245, 643)\n",
      "(13, 43, 523, 'Manthan')\n",
      "('Mahadev', [41, 54, 12], (1, 4, 2))\n"
     ]
    }
   ],
   "source": [
    "## Tuple\n",
    "mytuple = ()\n",
    "print(mytuple)\n",
    "mytuple = (12, 312, 314, 4124, 142, 41, 5245, 643)\n",
    "print(mytuple)\n",
    "mytuple = (13, 43, 523, 'Manthan')\n",
    "print(mytuple)\n",
    "mytuple = ('Mahadev', [41,54,12], (1, 4, 2))\n",
    "print(mytuple)"
   ]
  },
  {
   "cell_type": "code",
   "execution_count": 79,
   "id": "narrative-cornell",
   "metadata": {},
   "outputs": [
    {
     "name": "stdout",
     "output_type": "stream",
     "text": [
      "Manthan\n",
      "Nagpurkar\n"
     ]
    }
   ],
   "source": [
    "mytuple = 'Manthan', 'Nagpurkar'\n",
    "name, surname = mytuple\n",
    "print(name)\n",
    "print(surname)"
   ]
  },
  {
   "cell_type": "code",
   "execution_count": 80,
   "id": "every-moral",
   "metadata": {},
   "outputs": [
    {
     "data": {
      "text/plain": [
       "str"
      ]
     },
     "execution_count": 80,
     "metadata": {},
     "output_type": "execute_result"
    }
   ],
   "source": [
    "type(name)"
   ]
  },
  {
   "cell_type": "code",
   "execution_count": 81,
   "id": "advised-angel",
   "metadata": {},
   "outputs": [
    {
     "name": "stdout",
     "output_type": "stream",
     "text": [
      "52\n",
      "363\n"
     ]
    }
   ],
   "source": [
    "mytuple = (2,14,52,131,545,363,75,32)\n",
    "print(mytuple[2])\n",
    "print(mytuple[5])"
   ]
  },
  {
   "cell_type": "code",
   "execution_count": 82,
   "id": "fourth-coast",
   "metadata": {},
   "outputs": [
    {
     "name": "stdout",
     "output_type": "stream",
     "text": [
      "32\n"
     ]
    }
   ],
   "source": [
    "print(mytuple[-1])"
   ]
  },
  {
   "cell_type": "code",
   "execution_count": 83,
   "id": "wicked-oakland",
   "metadata": {},
   "outputs": [
    {
     "name": "stdout",
     "output_type": "stream",
     "text": [
      "(52, 131, 545, 363)\n",
      "(2, 14, 52, 131, 545, 363)\n",
      "(75, 32)\n"
     ]
    }
   ],
   "source": [
    "print(mytuple[2:6])\n",
    "print(mytuple[:-2])\n",
    "print(mytuple[-2:])"
   ]
  },
  {
   "cell_type": "code",
   "execution_count": 84,
   "id": "integrated-suggestion",
   "metadata": {},
   "outputs": [
    {
     "name": "stdout",
     "output_type": "stream",
     "text": [
      "(2, 14, 52, 131, 545, 363, 75, 32)\n"
     ]
    }
   ],
   "source": [
    "print(mytuple[:])"
   ]
  },
  {
   "cell_type": "code",
   "execution_count": 85,
   "id": "atlantic-lounge",
   "metadata": {},
   "outputs": [
    {
     "name": "stdout",
     "output_type": "stream",
     "text": [
      "(1, 42, 52, 253, 523, 643)\n"
     ]
    }
   ],
   "source": [
    "print((1,42,52)+(253,523,643))"
   ]
  },
  {
   "cell_type": "code",
   "execution_count": 86,
   "id": "graduate-string",
   "metadata": {},
   "outputs": [
    {
     "name": "stdout",
     "output_type": "stream",
     "text": [
      "(423, 412, 423, 412, 423, 412, 423, 412, 423, 412, 423, 412, 423, 412, 423, 412, 423, 412, 423, 412)\n",
      "Manthan Manthan Manthan Manthan \n"
     ]
    }
   ],
   "source": [
    "print((423,412)*10)\n",
    "print(('Manthan ')*4)"
   ]
  },
  {
   "cell_type": "code",
   "execution_count": 87,
   "id": "elect-philip",
   "metadata": {},
   "outputs": [],
   "source": [
    "del mytuple"
   ]
  },
  {
   "cell_type": "code",
   "execution_count": 88,
   "id": "lightweight-boulder",
   "metadata": {},
   "outputs": [
    {
     "name": "stdout",
     "output_type": "stream",
     "text": [
      "2\n",
      "1\n"
     ]
    }
   ],
   "source": [
    "s_tuple = ('m','a','n','t','h','a','n')\n",
    "print(s_tuple.count('a'))\n",
    "print(s_tuple.count('m'))"
   ]
  },
  {
   "cell_type": "code",
   "execution_count": 90,
   "id": "anonymous-engagement",
   "metadata": {},
   "outputs": [
    {
     "name": "stdout",
     "output_type": "stream",
     "text": [
      "True\n"
     ]
    }
   ],
   "source": [
    "print('n' in s_tuple)"
   ]
  },
  {
   "cell_type": "code",
   "execution_count": 91,
   "id": "phantom-briefing",
   "metadata": {},
   "outputs": [
    {
     "name": "stdout",
     "output_type": "stream",
     "text": [
      "hello  ahmedabad\n",
      "hello  bombay\n",
      "hello  delhi\n"
     ]
    }
   ],
   "source": [
    "for city in ('ahmedabad', 'bombay', 'delhi'):\n",
    "    print('hello ', city)"
   ]
  },
  {
   "cell_type": "markdown",
   "id": "fourth-shopper",
   "metadata": {},
   "source": [
    "## Practical-3"
   ]
  },
  {
   "cell_type": "code",
   "execution_count": 109,
   "id": "grand-trading",
   "metadata": {},
   "outputs": [
    {
     "name": "stdout",
     "output_type": "stream",
     "text": [
      "x:  5\n",
      "inner value of x:  2\n",
      "x:  5\n"
     ]
    }
   ],
   "source": [
    "## Scoping\n",
    "x = 5\n",
    "print('x: ', x)\n",
    "def fun():\n",
    "    x = 2\n",
    "    print('inner value of x: ', x)\n",
    "fun()\n",
    "print('x: ',x)"
   ]
  },
  {
   "cell_type": "code",
   "execution_count": 108,
   "id": "clear-pharmacology",
   "metadata": {},
   "outputs": [
    {
     "name": "stdout",
     "output_type": "stream",
     "text": [
      "inner value of x:  10\n",
      "x:  10\n"
     ]
    }
   ],
   "source": [
    "def fun():\n",
    "    global x\n",
    "    x = 10\n",
    "    print('inner value of x: ',x)\n",
    "fun()\n",
    "print('x: ', x)"
   ]
  },
  {
   "cell_type": "code",
   "execution_count": 112,
   "id": "coordinated-journalist",
   "metadata": {},
   "outputs": [
    {
     "name": "stdout",
     "output_type": "stream",
     "text": [
      "Length of the LCS:  3\n"
     ]
    }
   ],
   "source": [
    "## Recursion\n",
    "s1 = 'abcdef'\n",
    "s2 = 'cde'\n",
    "def lcs(n, m, s1, s2):\n",
    "    if n==0 or m==0:\n",
    "        return 0\n",
    "    if s1[n-1]==s2[m-1]:\n",
    "        return 1+lcs(n-1, m-1, s1, s2)\n",
    "    else:\n",
    "        return max(lcs(n-1, m, s1, s2), lcs(n, m-1, s1, s2))\n",
    "len_largest_common_subsquence = lcs(len(s1), len(s2), s1, s2)\n",
    "print('Length of the LCS: ', len_largest_common_subsquence)"
   ]
  },
  {
   "cell_type": "code",
   "execution_count": 122,
   "id": "compatible-westminster",
   "metadata": {},
   "outputs": [
    {
     "data": {
      "text/plain": [
       "'Manthan'"
      ]
     },
     "execution_count": 122,
     "metadata": {},
     "output_type": "execute_result"
    }
   ],
   "source": [
    "## List Mutability\n",
    "names = ['Manthan', 'Shubham', 'Hardik']\n",
    "names[0]"
   ]
  },
  {
   "cell_type": "code",
   "execution_count": 123,
   "id": "functioning-regard",
   "metadata": {},
   "outputs": [
    {
     "data": {
      "text/plain": [
       "['Manthan', 'Shubham', 'Hardik']"
      ]
     },
     "execution_count": 123,
     "metadata": {},
     "output_type": "execute_result"
    }
   ],
   "source": [
    "names"
   ]
  },
  {
   "cell_type": "code",
   "execution_count": 124,
   "id": "acute-bouquet",
   "metadata": {},
   "outputs": [
    {
     "data": {
      "text/plain": [
       "['Manthan', 'Shubham', 'Hardik']"
      ]
     },
     "execution_count": 124,
     "metadata": {},
     "output_type": "execute_result"
    }
   ],
   "source": [
    "frnds = names\n",
    "frnds"
   ]
  },
  {
   "cell_type": "code",
   "execution_count": 125,
   "id": "medieval-kitchen",
   "metadata": {},
   "outputs": [
    {
     "name": "stdout",
     "output_type": "stream",
     "text": [
      "names:  ['Manthan', 'Shubham', 'Sanidhya']\n",
      "frnds: ['Manthan', 'Shubham', 'Sanidhya']\n"
     ]
    }
   ],
   "source": [
    "frnds[2] = 'Sanidhya'\n",
    "print('names: ',names)\n",
    "print('frnds:', frnds)"
   ]
  },
  {
   "cell_type": "code",
   "execution_count": 126,
   "id": "institutional-musical",
   "metadata": {},
   "outputs": [
    {
     "name": "stdout",
     "output_type": "stream",
     "text": [
      "applered\n",
      "apple\n"
     ]
    }
   ],
   "source": [
    "a = 'apple'\n",
    "b = a\n",
    "a+='red'\n",
    "print(a)\n",
    "print(b)"
   ]
  },
  {
   "cell_type": "markdown",
   "id": "recovered-auditor",
   "metadata": {},
   "source": [
    "## Practical-4"
   ]
  },
  {
   "cell_type": "code",
   "execution_count": 127,
   "id": "latin-mailing",
   "metadata": {},
   "outputs": [
    {
     "name": "stdout",
     "output_type": "stream",
     "text": [
      "first element:  42\n",
      "An error occured\n"
     ]
    }
   ],
   "source": [
    "## Exception handling\n",
    "a = [42, 534, 64]\n",
    "try:\n",
    "    print('first element: ', a[0])\n",
    "    print('six element: ', a[5])\n",
    "except:\n",
    "    print('An error occured')"
   ]
  },
  {
   "cell_type": "code",
   "execution_count": 130,
   "id": "dedicated-words",
   "metadata": {},
   "outputs": [
    {
     "name": "stdout",
     "output_type": "stream",
     "text": [
      "ZeroDivisionError occurred and handled\n"
     ]
    }
   ],
   "source": [
    "try:\n",
    "    a = 23/0\n",
    "    print(a)\n",
    "except ZeroDivisionError:\n",
    "    print('ZeroDivisionError occurred and handled')"
   ]
  },
  {
   "cell_type": "code",
   "execution_count": 137,
   "id": "social-earthquake",
   "metadata": {},
   "outputs": [
    {
     "name": "stdout",
     "output_type": "stream",
     "text": [
      "inside try block\n"
     ]
    }
   ],
   "source": [
    "## Assertion\n",
    "x = 'aaa'\n",
    "y = 'aaa'\n",
    "try:\n",
    "    assert(x==y)\n",
    "    print('inside try block')\n",
    "except:\n",
    "    print('inside exception block')\n",
    "    print(x)"
   ]
  },
  {
   "cell_type": "code",
   "execution_count": 139,
   "id": "binding-advice",
   "metadata": {},
   "outputs": [
    {
     "name": "stdout",
     "output_type": "stream",
     "text": [
      "inside exception block\n",
      "baba\n"
     ]
    }
   ],
   "source": [
    "x = 'ababab'\n",
    "y = 'baba'\n",
    "\n",
    "try:\n",
    "    assert(x==y)\n",
    "    print('inside try block')\n",
    "except:\n",
    "    print('inside exception block')\n",
    "    print(y)"
   ]
  },
  {
   "cell_type": "markdown",
   "id": "musical-fiction",
   "metadata": {},
   "source": [
    "## Practical-5"
   ]
  },
  {
   "cell_type": "code",
   "execution_count": 156,
   "id": "collectible-athens",
   "metadata": {},
   "outputs": [
    {
     "name": "stdout",
     "output_type": "stream",
     "text": [
      "Sorting with bubble sort:  [4, 5, 12, 19, 22, 32, 53, 442]\n",
      "Sorting with selection sort:  [4, 5, 12, 19, 22, 32, 53, 442]\n"
     ]
    }
   ],
   "source": [
    "## Sorting\n",
    "a = [32, 442, 12, 4, 5,22, 53, 19]\n",
    "# bubble sort\n",
    "def bubble_sort():\n",
    "    for j in range(0,len(a)-1):\n",
    "        for i in range(0,len(a)-1):\n",
    "            if a[i]>a[i+1]:\n",
    "                t = a[i]\n",
    "                a[i] = a[i+1]\n",
    "                a[i+1] = t\n",
    "    print('Sorting with bubble sort: ',a)\n",
    "# selection sort\n",
    "def selection_sort():\n",
    "    for i in range(0,len(a)-2):\n",
    "        m = i\n",
    "        for j in range(i+1, len(a)-1):\n",
    "            if a[j]<a[m]:\n",
    "                m = j\n",
    "        t = a[m]\n",
    "        a[m] = a[i]\n",
    "        a[i] = t\n",
    "    print('Sorting with selection sort: ',a)\n",
    "bubble_sort()\n",
    "selection_sort()"
   ]
  },
  {
   "cell_type": "code",
   "execution_count": 164,
   "id": "recognized-respect",
   "metadata": {},
   "outputs": [
    {
     "name": "stdout",
     "output_type": "stream",
     "text": [
      "Index of the finding element by linear search:  4\n",
      "Sorting before appling binary search: \n",
      "Sorting with bubble sort:  [4, 5, 12, 19, 22, 32, 53, 442]\n",
      "Index of finding element by binary search:  1\n"
     ]
    }
   ],
   "source": [
    "a = [32, 442, 12, 4, 5,22, 53, 19]\n",
    "# linear search\n",
    "def linear_search(ele):\n",
    "    for i in range(0,len(a)-1):\n",
    "        if a[i]==ele:\n",
    "            return i\n",
    "    return -1\n",
    "# binary search\n",
    "def binary_search(ele):\n",
    "    l=0\n",
    "    r=len(a)-1\n",
    "    while l<r:\n",
    "        mid = int((l+r)/2)\n",
    "        if a[mid]==ele:\n",
    "            return mid\n",
    "        if a[mid]>ele:\n",
    "            r = mid-1\n",
    "        else:\n",
    "            l = mid+1\n",
    "    return -1\n",
    "print('Index of the finding element by linear search: ',linear_search(5))\n",
    "print('Sorting before appling binary search: ')\n",
    "bubble_sort()\n",
    "print('Index of finding element by binary search: ',binary_search(5))"
   ]
  },
  {
   "cell_type": "code",
   "execution_count": 168,
   "id": "corrected-luxury",
   "metadata": {},
   "outputs": [
    {
     "name": "stdout",
     "output_type": "stream",
     "text": [
      "hash value of 3: 3\n",
      "hash value of 4: 4\n",
      "hash value of 5: 5\n",
      "hash value of 9: 2\n"
     ]
    }
   ],
   "source": [
    "# hashing\n",
    "def hash_key(key, m):\n",
    "    return key%m\n",
    "m = 7\n",
    "print(f'hash value of 3: {hash_key(3,7)}')\n",
    "print(f'hash value of 4: {hash_key(4,7)}')\n",
    "print(f'hash value of 5: {hash_key(5,7)}')\n",
    "print(f'hash value of 9: {hash_key(9,7)}')\n"
   ]
  },
  {
   "cell_type": "markdown",
   "id": "pacific-filter",
   "metadata": {},
   "source": [
    "## Practical-6"
   ]
  },
  {
   "cell_type": "code",
   "execution_count": 170,
   "id": "precious-location",
   "metadata": {},
   "outputs": [
    {
     "name": "stdout",
     "output_type": "stream",
     "text": [
      "phone number:  1234-412-292 \n"
     ]
    }
   ],
   "source": [
    "import re\n",
    "phone = \"1234-412-292 #This is my phone number \"\n",
    "num = re.sub(r'#.*$',\"\",phone)\n",
    "print('phone number: ', num)\n"
   ]
  },
  {
   "cell_type": "code",
   "execution_count": 171,
   "id": "framed-least",
   "metadata": {},
   "outputs": [
    {
     "name": "stdout",
     "output_type": "stream",
     "text": [
      "phone number:  1234412292\n"
     ]
    }
   ],
   "source": [
    "num = re.sub(r'\\D',\"\",phone)\n",
    "print('phone number: ', num)"
   ]
  },
  {
   "cell_type": "code",
   "execution_count": 173,
   "id": "recorded-psychology",
   "metadata": {},
   "outputs": [
    {
     "name": "stdout",
     "output_type": "stream",
     "text": [
      "YES we have a match\n"
     ]
    }
   ],
   "source": [
    "text = 'The rain in Ahmedabad'\n",
    "x = re.search('^The.*Ahmedabad$', text)\n",
    "if x:\n",
    "    print(\"YES we have a match\")\n",
    "else:\n",
    "    print(\"No match\")"
   ]
  },
  {
   "cell_type": "code",
   "execution_count": 175,
   "id": "ruled-atlantic",
   "metadata": {},
   "outputs": [
    {
     "name": "stdout",
     "output_type": "stream",
     "text": [
      "[]\n",
      "Bombay is not exist\n"
     ]
    }
   ],
   "source": [
    "x = re.findall(\"bombay\", text)\n",
    "print(x)\n",
    "if x:\n",
    "    print(\"Yes bombay is exist\")\n",
    "else:\n",
    "    print(\"Bombay is not exist\")"
   ]
  },
  {
   "cell_type": "markdown",
   "id": "becoming-sphere",
   "metadata": {},
   "source": [
    "## Practical-8"
   ]
  },
  {
   "cell_type": "code",
   "execution_count": 179,
   "id": "indoor-being",
   "metadata": {},
   "outputs": [],
   "source": [
    "import numpy as np\n",
    "from matplotlib import pyplot as plt\n",
    "%matplotlib inline"
   ]
  },
  {
   "cell_type": "code",
   "execution_count": 184,
   "id": "classical-tonight",
   "metadata": {},
   "outputs": [
    {
     "name": "stdout",
     "output_type": "stream",
     "text": [
      "[3, 4, 5, 2, 1] [5, 4, 2, 6, 4]\n"
     ]
    },
    {
     "data": {
      "image/png": "[encoded data removed]",
      "text/plain": [
       "<Figure size 432x288 with 1 Axes>"
      ]
     },
     "metadata": {
      "needs_background": "light"
     },
     "output_type": "display_data"
    }
   ],
   "source": [
    "x = [3,4,5,2,1]\n",
    "y = [5,4,2,6,4]\n",
    "print(x, y)\n",
    "plt.plot(x,y)\n",
    "plt.show()"
   ]
  },
  {
   "cell_type": "code",
   "execution_count": 185,
   "id": "electric-oasis",
   "metadata": {},
   "outputs": [
    {
     "data": {
      "image/png": "[encoded data removed]",
      "text/plain": [
       "<Figure size 432x288 with 1 Axes>"
      ]
     },
     "metadata": {
      "needs_background": "light"
     },
     "output_type": "display_data"
    }
   ],
   "source": [
    "plt.bar(x,y)\n",
    "plt.show()"
   ]
  },
  {
   "cell_type": "code",
   "execution_count": 186,
   "id": "fundamental-syntax",
   "metadata": {},
   "outputs": [
    {
     "data": {
      "image/png": "[encoded data removed]",
      "text/plain": [
       "<Figure size 432x288 with 1 Axes>"
      ]
     },
     "metadata": {
      "needs_background": "light"
     },
     "output_type": "display_data"
    }
   ],
   "source": [
    "plt.hist(y)\n",
    "plt.show()"
   ]
  },
  {
   "cell_type": "code",
   "execution_count": 187,
   "id": "palestinian-costa",
   "metadata": {},
   "outputs": [
    {
     "data": {
      "image/png": "[encoded data removed]",
      "text/plain": [
       "<Figure size 432x288 with 1 Axes>"
      ]
     },
     "metadata": {
      "needs_background": "light"
     },
     "output_type": "display_data"
    }
   ],
   "source": [
    "plt.scatter(x, y)\n",
    "plt.show()"
   ]
  },
  {
   "cell_type": "code",
   "execution_count": 189,
   "id": "mediterranean-paste",
   "metadata": {},
   "outputs": [
    {
     "data": {
      "image/png": "[encoded data removed]",
      "text/plain": [
       "<Figure size 432x288 with 1 Axes>"
      ]
     },
     "metadata": {
      "needs_background": "light"
     },
     "output_type": "display_data"
    }
   ],
   "source": [
    "plt.xlabel('X')\n",
    "plt.ylabel('Y')\n",
    "plt.title('Graph')\n",
    "plt.scatter(x, y)\n",
    "plt.plot(x, y)\n",
    "plt.show()"
   ]
  },
  {
   "cell_type": "code",
   "execution_count": 190,
   "id": "willing-knight",
   "metadata": {},
   "outputs": [
    {
     "data": {
      "image/png": "[encoded data removed]",
      "text/plain": [
       "<Figure size 432x288 with 1 Axes>"
      ]
     },
     "metadata": {
      "needs_background": "light"
     },
     "output_type": "display_data"
    },
    {
     "data": {
      "image/png": "[encoded data removed]",
      "text/plain": [
       "<Figure size 432x288 with 1 Axes>"
      ]
     },
     "metadata": {
      "needs_background": "light"
     },
     "output_type": "display_data"
    }
   ],
   "source": [
    "plt.xlabel('X')\n",
    "plt.ylabel('Y')\n",
    "plt.title('Graph')\n",
    "plt.scatter(x, y)\n",
    "plt.show()\n",
    "plt.plot(x, y)\n",
    "plt.show()"
   ]
  },
  {
   "cell_type": "code",
   "execution_count": 193,
   "id": "proprietary-toner",
   "metadata": {},
   "outputs": [
    {
     "data": {
      "image/png": "[encoded data removed]",
      "text/plain": [
       "<Figure size 432x288 with 1 Axes>"
      ]
     },
     "metadata": {
      "needs_background": "light"
     },
     "output_type": "display_data"
    }
   ],
   "source": [
    "x = [1,2,3,4,5,6,7,8,9,10]\n",
    "y = [2,3,4,5,7,8,9,11,12,13]\n",
    "plt.scatter(x, y, label='stars', color='green', marker='*',s=30)\n",
    "plt.xlabel('X')\n",
    "plt.ylabel('Y')\n",
    "plt.title('Scatter plot')\n",
    "plt.legend()\n",
    "plt.show()"
   ]
  },
  {
   "cell_type": "code",
   "execution_count": 204,
   "id": "exterior-platinum",
   "metadata": {},
   "outputs": [
    {
     "data": {
      "image/png": "[encoded data removed]",
      "text/plain": [
       "<Figure size 432x288 with 1 Axes>"
      ]
     },
     "metadata": {
      "needs_background": "light"
     },
     "output_type": "display_data"
    }
   ],
   "source": [
    "plt.plot(x, y)\n",
    "plt.show()"
   ]
  },
  {
   "cell_type": "code",
   "execution_count": 200,
   "id": "impossible-township",
   "metadata": {},
   "outputs": [
    {
     "data": {
      "image/png": "[encoded data removed]",
      "text/plain": [
       "<Figure size 432x288 with 1 Axes>"
      ]
     },
     "metadata": {},
     "output_type": "display_data"
    }
   ],
   "source": [
    "act = ['eat', 'sleep', 'work']\n",
    "slices = [3, 7, 8]\n",
    "colors = ['r','b','g']\n",
    "plt.pie(slices, labels=act, colors=colors, startangle=90,shadow=True, explode=(0,0,0.1),radius=1.2, autopct='%1.1f%%')\n",
    "plt.legend()\n",
    "plt.show()"
   ]
  },
  {
   "cell_type": "code",
   "execution_count": 203,
   "id": "invalid-oregon",
   "metadata": {},
   "outputs": [
    {
     "data": {
      "image/png": "[encoded data removed]",
      "text/plain": [
       "<Figure size 432x288 with 1 Axes>"
      ]
     },
     "metadata": {
      "needs_background": "light"
     },
     "output_type": "display_data"
    },
    {
     "data": {
      "image/png": "[encoded data removed]",
      "text/plain": [
       "<Figure size 432x288 with 1 Axes>"
      ]
     },
     "metadata": {
      "needs_background": "light"
     },
     "output_type": "display_data"
    }
   ],
   "source": [
    "x = np.arange(0,2*(np.pi),0.1)\n",
    "y = np.sin(x)\n",
    "z = np.cos(x)\n",
    "plt.plot(x, y)\n",
    "plt.show()\n",
    "plt.plot(x, z)\n",
    "plt.show()"
   ]
  },
  {
   "cell_type": "code",
   "execution_count": null,
   "id": "ranging-palace",
   "metadata": {},
   "outputs": [],
   "source": []
  }
 ],
 "metadata": {
  "kernelspec": {
   "display_name": "Python 3",
   "language": "python",
   "name": "python3"
  },
  "language_info": {
   "codemirror_mode": {
    "name": "ipython",
    "version": 3
   },
   "file_extension": ".py",
   "mimetype": "text/x-python",
   "name": "python",
   "nbconvert_exporter": "python",
   "pygments_lexer": "ipython3",
   "version": "3.9.2"
  }
 },
 "nbformat": 4,
 "nbformat_minor": 5
}
