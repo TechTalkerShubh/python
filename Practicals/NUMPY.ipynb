{
 "cells": [
  {
   "cell_type": "markdown",
   "id": "flush-williams",
   "metadata": {},
   "source": [
    "## Name: Nagpurkar Manthan Tulsiram\n",
    "## Enrollment No: 190130107071\n",
    "## Subject: PDS(3150713)\n",
    "## Sem: 5\n",
    "## Class: CE-A"
   ]
  },
  {
   "cell_type": "markdown",
   "id": "conditional-malpractice",
   "metadata": {},
   "source": [
    "## Practical-18"
   ]
  },
  {
   "cell_type": "code",
   "execution_count": 26,
   "id": "collect-malawi",
   "metadata": {},
   "outputs": [],
   "source": [
    "import numpy as np\n",
    "arr = np.array([1,4,0,2,6,8])"
   ]
  },
  {
   "cell_type": "code",
   "execution_count": 29,
   "id": "average-partnership",
   "metadata": {},
   "outputs": [
    {
     "data": {
      "text/plain": [
       "True"
      ]
     },
     "execution_count": 29,
     "metadata": {},
     "output_type": "execute_result"
    }
   ],
   "source": [
    "arr.any()"
   ]
  },
  {
   "cell_type": "code",
   "execution_count": 28,
   "id": "explicit-premium",
   "metadata": {},
   "outputs": [
    {
     "data": {
      "text/plain": [
       "False"
      ]
     },
     "execution_count": 28,
     "metadata": {},
     "output_type": "execute_result"
    }
   ],
   "source": [
    "arr.all() # 0 occured in arr "
   ]
  },
  {
   "cell_type": "code",
   "execution_count": 42,
   "id": "defensive-diagnosis",
   "metadata": {},
   "outputs": [
    {
     "name": "stdout",
     "output_type": "stream",
     "text": [
      "arr =  [False False False False False False]\n",
      "a =  [ True  True False False False]\n"
     ]
    }
   ],
   "source": [
    "print(\"arr = \", np.isnan(arr))\n",
    "a = np.array([np.nan, np.nan, 1, 5, 6])\n",
    "print(\"a = \", np.isnan(a))"
   ]
  },
  {
   "cell_type": "code",
   "execution_count": 43,
   "id": "opponent-receipt",
   "metadata": {},
   "outputs": [
    {
     "name": "stdout",
     "output_type": "stream",
     "text": [
      "a =  [False False False False False  True]\n"
     ]
    }
   ],
   "source": [
    "a = np.array([1, 5, 1000, 24, 525, np.inf])\n",
    "print(\"a = \", np.isinf(a))"
   ]
  },
  {
   "cell_type": "code",
   "execution_count": 44,
   "id": "solid-realtor",
   "metadata": {},
   "outputs": [
    {
     "data": {
      "text/plain": [
       "array([ True,  True,  True,  True,  True, False])"
      ]
     },
     "execution_count": 44,
     "metadata": {},
     "output_type": "execute_result"
    }
   ],
   "source": [
    "np.isfinite(a)"
   ]
  },
  {
   "cell_type": "code",
   "execution_count": 51,
   "id": "german-finland",
   "metadata": {},
   "outputs": [
    {
     "data": {
      "text/plain": [
       "array([[0., 0.],\n",
       "       [0., 0.]])"
      ]
     },
     "execution_count": 51,
     "metadata": {},
     "output_type": "execute_result"
    }
   ],
   "source": [
    "ar = np.zeros((2,2))\n",
    "ar"
   ]
  },
  {
   "cell_type": "code",
   "execution_count": 59,
   "id": "independent-communist",
   "metadata": {},
   "outputs": [
    {
     "data": {
      "text/plain": [
       "array([False, False,  True,  True])"
      ]
     },
     "execution_count": 59,
     "metadata": {},
     "output_type": "execute_result"
    }
   ],
   "source": [
    "ar = np.array([1+2j, 3+10j, 24, 5]) # mixture of complex and real values \n",
    "np.isreal(ar)"
   ]
  },
  {
   "cell_type": "code",
   "execution_count": 60,
   "id": "fundamental-illinois",
   "metadata": {},
   "outputs": [
    {
     "data": {
      "text/plain": [
       "array([ True,  True, False, False])"
      ]
     },
     "execution_count": 60,
     "metadata": {},
     "output_type": "execute_result"
    }
   ],
   "source": [
    "np.iscomplex(ar)"
   ]
  },
  {
   "cell_type": "code",
   "execution_count": 63,
   "id": "liberal-calvin",
   "metadata": {},
   "outputs": [
    {
     "data": {
      "text/plain": [
       "False"
      ]
     },
     "execution_count": 63,
     "metadata": {},
     "output_type": "execute_result"
    }
   ],
   "source": [
    "np.isscalar([24])"
   ]
  },
  {
   "cell_type": "code",
   "execution_count": 64,
   "id": "jewish-relaxation",
   "metadata": {},
   "outputs": [
    {
     "data": {
      "text/plain": [
       "True"
      ]
     },
     "execution_count": 64,
     "metadata": {},
     "output_type": "execute_result"
    }
   ],
   "source": [
    "np.isscalar(24)"
   ]
  },
  {
   "cell_type": "code",
   "execution_count": 74,
   "id": "coral-approval",
   "metadata": {},
   "outputs": [
    {
     "data": {
      "text/plain": [
       "array([ True,  True, False])"
      ]
     },
     "execution_count": 74,
     "metadata": {},
     "output_type": "execute_result"
    }
   ],
   "source": [
    "x = np.array([1,3,7])\n",
    "y = np.array([2, 5,6])\n",
    "np.less(x, y)"
   ]
  },
  {
   "cell_type": "code",
   "execution_count": 75,
   "id": "secret-musical",
   "metadata": {},
   "outputs": [
    {
     "data": {
      "text/plain": [
       "array([False, False,  True])"
      ]
     },
     "execution_count": 75,
     "metadata": {},
     "output_type": "execute_result"
    }
   ],
   "source": [
    "np.less(y, x)"
   ]
  },
  {
   "cell_type": "code",
   "execution_count": 76,
   "id": "adolescent-louisville",
   "metadata": {},
   "outputs": [
    {
     "data": {
      "text/plain": [
       "array([False, False,  True])"
      ]
     },
     "execution_count": 76,
     "metadata": {},
     "output_type": "execute_result"
    }
   ],
   "source": [
    "np.greater(x, y)"
   ]
  },
  {
   "cell_type": "code",
   "execution_count": 77,
   "id": "expired-brown",
   "metadata": {},
   "outputs": [
    {
     "data": {
      "text/plain": [
       "array([ True,  True, False])"
      ]
     },
     "execution_count": 77,
     "metadata": {},
     "output_type": "execute_result"
    }
   ],
   "source": [
    "np.greater(y, x)"
   ]
  },
  {
   "cell_type": "code",
   "execution_count": 79,
   "id": "inside-insight",
   "metadata": {},
   "outputs": [
    {
     "data": {
      "text/plain": [
       "array([ True,  True, False])"
      ]
     },
     "execution_count": 79,
     "metadata": {},
     "output_type": "execute_result"
    }
   ],
   "source": [
    "x = np.array([1, 4, 10])\n",
    "y = np.array([2, 4, 8])\n",
    "np.less_equal(x, y)"
   ]
  },
  {
   "cell_type": "code",
   "execution_count": 80,
   "id": "residential-attention",
   "metadata": {},
   "outputs": [
    {
     "data": {
      "text/plain": [
       "array([False,  True,  True])"
      ]
     },
     "execution_count": 80,
     "metadata": {},
     "output_type": "execute_result"
    }
   ],
   "source": [
    "np.greater_equal(x, y)"
   ]
  },
  {
   "cell_type": "markdown",
   "id": "fourth-crest",
   "metadata": {},
   "source": [
    "## Practical-19"
   ]
  },
  {
   "cell_type": "code",
   "execution_count": 81,
   "id": "checked-boards",
   "metadata": {},
   "outputs": [
    {
     "data": {
      "text/plain": [
       "array([ 0,  1,  2,  3,  4,  5,  6,  7,  8,  9, 10, 11, 12, 13, 14, 15, 16,\n",
       "       17, 18, 19, 20, 21, 22, 23, 24, 25, 26, 27, 28, 29, 30, 31, 32, 33,\n",
       "       34, 35, 36, 37, 38, 39, 40, 41, 42, 43, 44, 45, 46, 47, 48, 49, 50,\n",
       "       51, 52, 53, 54, 55, 56, 57, 58, 59, 60, 61, 62, 63, 64, 65, 66, 67,\n",
       "       68, 69, 70, 71, 72, 73, 74, 75, 76, 77, 78, 79, 80, 81, 82, 83, 84,\n",
       "       85, 86, 87, 88, 89, 90, 91, 92, 93, 94, 95, 96, 97, 98, 99])"
      ]
     },
     "execution_count": 81,
     "metadata": {},
     "output_type": "execute_result"
    }
   ],
   "source": [
    "np.arange(100)"
   ]
  },
  {
   "cell_type": "code",
   "execution_count": 86,
   "id": "german-little",
   "metadata": {},
   "outputs": [
    {
     "data": {
      "text/plain": [
       "(2, 3)"
      ]
     },
     "execution_count": 86,
     "metadata": {},
     "output_type": "execute_result"
    }
   ],
   "source": [
    "ar = np.array([[1, 4, 5],\n",
    "              [4, 5, 52]])\n",
    "ar.shape"
   ]
  },
  {
   "cell_type": "code",
   "execution_count": 91,
   "id": "least-services",
   "metadata": {},
   "outputs": [
    {
     "data": {
      "text/plain": [
       "array([[ 1,  4],\n",
       "       [ 5,  4],\n",
       "       [ 5, 52]])"
      ]
     },
     "execution_count": 91,
     "metadata": {},
     "output_type": "execute_result"
    }
   ],
   "source": [
    "ar.reshape(3, 2)"
   ]
  },
  {
   "cell_type": "code",
   "execution_count": 93,
   "id": "aware-holocaust",
   "metadata": {},
   "outputs": [
    {
     "data": {
      "text/plain": [
       "array([ 1.        ,  5.33333333,  9.66666667, 14.        , 18.33333333,\n",
       "       22.66666667, 27.        , 31.33333333, 35.66666667, 40.        ])"
      ]
     },
     "execution_count": 93,
     "metadata": {},
     "output_type": "execute_result"
    }
   ],
   "source": [
    "np.linspace(1, 40, 10) # ten values with same difference betweem 1 to 40"
   ]
  },
  {
   "cell_type": "code",
   "execution_count": 101,
   "id": "stylish-object",
   "metadata": {},
   "outputs": [
    {
     "data": {
      "text/plain": [
       "292"
      ]
     },
     "execution_count": 101,
     "metadata": {},
     "output_type": "execute_result"
    }
   ],
   "source": [
    "np.random.randint(0,500)"
   ]
  },
  {
   "cell_type": "code",
   "execution_count": 105,
   "id": "removable-climate",
   "metadata": {},
   "outputs": [
    {
     "name": "stdout",
     "output_type": "stream",
     "text": [
      "[  4  25 120]\n"
     ]
    },
    {
     "data": {
      "text/plain": [
       "149"
      ]
     },
     "execution_count": 105,
     "metadata": {},
     "output_type": "execute_result"
    }
   ],
   "source": [
    "x = np.array([1, 5, 10])\n",
    "y = np.array([4, 5, 12])\n",
    "z = x*y\n",
    "print(z)\n",
    "x.dot(y) # Sum of array z"
   ]
  }
 ],
 "metadata": {
  "kernelspec": {
   "display_name": "Python 3",
   "language": "python",
   "name": "python3"
  },
  "language_info": {
   "codemirror_mode": {
    "name": "ipython",
    "version": 3
   },
   "file_extension": ".py",
   "mimetype": "text/x-python",
   "name": "python",
   "nbconvert_exporter": "python",
   "pygments_lexer": "ipython3",
   "version": "3.9.2"
  }
 },
 "nbformat": 4,
 "nbformat_minor": 5
}
